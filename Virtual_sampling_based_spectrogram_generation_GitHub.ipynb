{
  "cells": [
    {
      "cell_type": "markdown",
      "source": [
        "# Import libraries"
      ],
      "metadata": {
        "id": "uJDC2_VAA7VV"
      }
    },
    {
      "cell_type": "code",
      "execution_count": 1,
      "metadata": {
        "id": "lp4UFVZ1Oz1u"
      },
      "outputs": [],
      "source": [
        "%matplotlib inline\n",
        "import scipy.io # To use the '.mat' files\n",
        "import seaborn as sns\n",
        "import numpy as np\n",
        "import pandas as pd\n",
        "import os\n",
        "import matplotlib.pyplot as plt\n",
        "import librosa\n",
        "import librosa.display\n",
        "from scipy.signal import butter, filtfilt\n",
        "import cv2\n",
        "from matplotlib.colors import Normalize\n",
        "from matplotlib import cm\n",
        "from PIL import Image"
      ]
    },
    {
      "cell_type": "code",
      "execution_count": 2,
      "metadata": {
        "colab": {
          "base_uri": "https://localhost:8080/"
        },
        "id": "3k_p683Asl-Q",
        "outputId": "133bfe5b-de73-4106-d719-9fe2455306a8"
      },
      "outputs": [
        {
          "output_type": "stream",
          "name": "stdout",
          "text": [
            "Requirement already satisfied: librosa in /usr/local/lib/python3.10/dist-packages (0.10.2.post1)\n",
            "Requirement already satisfied: matplotlib in /usr/local/lib/python3.10/dist-packages (3.7.1)\n",
            "Requirement already satisfied: numpy in /usr/local/lib/python3.10/dist-packages (1.25.2)\n",
            "Requirement already satisfied: audioread>=2.1.9 in /usr/local/lib/python3.10/dist-packages (from librosa) (3.0.1)\n",
            "Requirement already satisfied: scipy>=1.2.0 in /usr/local/lib/python3.10/dist-packages (from librosa) (1.11.4)\n",
            "Requirement already satisfied: scikit-learn>=0.20.0 in /usr/local/lib/python3.10/dist-packages (from librosa) (1.2.2)\n",
            "Requirement already satisfied: joblib>=0.14 in /usr/local/lib/python3.10/dist-packages (from librosa) (1.4.2)\n",
            "Requirement already satisfied: decorator>=4.3.0 in /usr/local/lib/python3.10/dist-packages (from librosa) (5.1.1)\n",
            "Requirement already satisfied: numba>=0.51.0 in /usr/local/lib/python3.10/dist-packages (from librosa) (0.59.1)\n",
            "Requirement already satisfied: soundfile>=0.12.1 in /usr/local/lib/python3.10/dist-packages (from librosa) (0.12.1)\n",
            "Requirement already satisfied: pooch>=1.1 in /usr/local/lib/python3.10/dist-packages (from librosa) (1.8.1)\n",
            "Requirement already satisfied: soxr>=0.3.2 in /usr/local/lib/python3.10/dist-packages (from librosa) (0.3.7)\n",
            "Requirement already satisfied: typing-extensions>=4.1.1 in /usr/local/lib/python3.10/dist-packages (from librosa) (4.12.1)\n",
            "Requirement already satisfied: lazy-loader>=0.1 in /usr/local/lib/python3.10/dist-packages (from librosa) (0.4)\n",
            "Requirement already satisfied: msgpack>=1.0 in /usr/local/lib/python3.10/dist-packages (from librosa) (1.0.8)\n",
            "Requirement already satisfied: contourpy>=1.0.1 in /usr/local/lib/python3.10/dist-packages (from matplotlib) (1.2.1)\n",
            "Requirement already satisfied: cycler>=0.10 in /usr/local/lib/python3.10/dist-packages (from matplotlib) (0.12.1)\n",
            "Requirement already satisfied: fonttools>=4.22.0 in /usr/local/lib/python3.10/dist-packages (from matplotlib) (4.53.0)\n",
            "Requirement already satisfied: kiwisolver>=1.0.1 in /usr/local/lib/python3.10/dist-packages (from matplotlib) (1.4.5)\n",
            "Requirement already satisfied: packaging>=20.0 in /usr/local/lib/python3.10/dist-packages (from matplotlib) (24.0)\n",
            "Requirement already satisfied: pillow>=6.2.0 in /usr/local/lib/python3.10/dist-packages (from matplotlib) (10.3.0)\n",
            "Requirement already satisfied: pyparsing>=2.3.1 in /usr/local/lib/python3.10/dist-packages (from matplotlib) (3.1.2)\n",
            "Requirement already satisfied: python-dateutil>=2.7 in /usr/local/lib/python3.10/dist-packages (from matplotlib) (2.9.0.post0)\n",
            "Requirement already satisfied: llvmlite<0.43,>=0.42.0dev0 in /usr/local/lib/python3.10/dist-packages (from numba>=0.51.0->librosa) (0.42.0)\n",
            "Requirement already satisfied: platformdirs>=2.5.0 in /usr/local/lib/python3.10/dist-packages (from pooch>=1.1->librosa) (4.2.2)\n",
            "Requirement already satisfied: requests>=2.19.0 in /usr/local/lib/python3.10/dist-packages (from pooch>=1.1->librosa) (2.31.0)\n",
            "Requirement already satisfied: six>=1.5 in /usr/local/lib/python3.10/dist-packages (from python-dateutil>=2.7->matplotlib) (1.16.0)\n",
            "Requirement already satisfied: threadpoolctl>=2.0.0 in /usr/local/lib/python3.10/dist-packages (from scikit-learn>=0.20.0->librosa) (3.5.0)\n",
            "Requirement already satisfied: cffi>=1.0 in /usr/local/lib/python3.10/dist-packages (from soundfile>=0.12.1->librosa) (1.16.0)\n",
            "Requirement already satisfied: pycparser in /usr/local/lib/python3.10/dist-packages (from cffi>=1.0->soundfile>=0.12.1->librosa) (2.22)\n",
            "Requirement already satisfied: charset-normalizer<4,>=2 in /usr/local/lib/python3.10/dist-packages (from requests>=2.19.0->pooch>=1.1->librosa) (3.3.2)\n",
            "Requirement already satisfied: idna<4,>=2.5 in /usr/local/lib/python3.10/dist-packages (from requests>=2.19.0->pooch>=1.1->librosa) (3.7)\n",
            "Requirement already satisfied: urllib3<3,>=1.21.1 in /usr/local/lib/python3.10/dist-packages (from requests>=2.19.0->pooch>=1.1->librosa) (2.0.7)\n",
            "Requirement already satisfied: certifi>=2017.4.17 in /usr/local/lib/python3.10/dist-packages (from requests>=2.19.0->pooch>=1.1->librosa) (2024.6.2)\n"
          ]
        }
      ],
      "source": [
        "pip install librosa matplotlib numpy"
      ]
    },
    {
      "cell_type": "markdown",
      "source": [
        "# Mount google drive"
      ],
      "metadata": {
        "id": "Ppea4fp5BrGx"
      }
    },
    {
      "cell_type": "code",
      "execution_count": 3,
      "metadata": {
        "colab": {
          "base_uri": "https://localhost:8080/"
        },
        "id": "2jdjCs9x0VWV",
        "outputId": "b9824a5a-6da6-4bc9-ca43-54a38bdbfc64"
      },
      "outputs": [
        {
          "output_type": "stream",
          "name": "stdout",
          "text": [
            "Mounted at /content/drive\n"
          ]
        }
      ],
      "source": [
        "from google.colab import drive\n",
        "drive.mount('/content/drive')"
      ]
    },
    {
      "cell_type": "markdown",
      "source": [
        "# Automation code for spectrogram image generation using virtual sampling technique"
      ],
      "metadata": {
        "id": "Yt2iJaYdBxZr"
      }
    },
    {
      "cell_type": "code",
      "execution_count": 4,
      "metadata": {
        "id": "OStvNyWmenIL"
      },
      "outputs": [],
      "source": [
        "def calculate_hop_length(segment_length, overlap_percent):\n",
        "    return int(segment_length * (1 - overlap_percent / 100))\n",
        "\n",
        "def process_csv(file_path, output_directory):\n",
        "    data = pd.read_csv(file_path)\n",
        "    new_data = np.array(data.iloc[:, 3])\n",
        "    fs_original = 50000  # Original sample rate\n",
        "    # Step 1: Resample to make a 10-second signal\n",
        "    fs_new = 25000  # New sample rate to stretch the signal to 10 seconds\n",
        "    data_new_streched = librosa.resample(new_data, orig_sr=fs_original, target_sr=fs_new)\n",
        "    t_original = np.linspace(0, 5, len(new_data))\n",
        "    # Time vectors for plotting\n",
        "    t_stretched = np.linspace(0, 10, len(data_new_streched))  # 10 seconds for the stretched signal\n",
        "    # Step 2: Extract the first 2 seconds from the stretched signal\n",
        "    duration_extract = 2 # Duration to extract in seconds\n",
        "    signal_extracted = data_new_streched[:int(fs_new * duration_extract)]\n",
        "    signal = signal_extracted\n",
        "    fs=25000\n",
        "    n_fft = 5000\n",
        "    segment_length = 5000\n",
        "    hop_length = calculate_hop_length(segment_length, 96)\n",
        "    Fmax=1120\n",
        "    # Determine which frequency bins to keep\n",
        "    freqs = np.fft.rfftfreq(n_fft, 1/fs)\n",
        "    max_index = np.where(freqs <= Fmax)[0][-1] + 1  # Last index where the frequency is <= 5000 Hz\n",
        "    # Initialize spectrogram array with the correct number of rows\n",
        "    spectrogram = np.zeros((max_index, 0))\n",
        "    # Window function\n",
        "    window = np.hanning(n_fft)\n",
        "    # Process segments\n",
        "    current_position = 0\n",
        "    while current_position + n_fft <= len(signal):\n",
        "        end = current_position + n_fft\n",
        "        segment = signal[current_position:end] * window\n",
        "        fft_result = np.fft.rfft(segment, n=n_fft)\n",
        "        fft_result = fft_result[:max_index]  # Keep only the components up to 5000 Hz\n",
        "        frequencies = np.fft.rfftfreq(n_fft, 1/fs_new)\n",
        "        spectrogram = np.hstack((spectrogram, np.abs(fft_result).reshape(-1, 1)))\n",
        "        NN=librosa.power_to_db(spectrogram, ref=np.max)\n",
        "        current_position += hop_length\n",
        "    # print(\"Frequency resolution (Hz):\", frequencies[1]- frequencies[0])\n",
        "    # Resize the spectrogram to 224x224\n",
        "    spectrogram_resized = cv2.resize(NN,(224, 224), interpolation=cv2.INTER_CUBIC)\n",
        "    normalized_spectrogram = (spectrogram_resized - np.min(spectrogram_resized)) / (np.max(spectrogram_resized) - np.min(spectrogram_resized))\n",
        "    viridis = cm.get_cmap('viridis', 256)\n",
        "    stft_colored = viridis(normalized_spectrogram)\n",
        "    rgb_image_no_alpha = stft_colored[:, :, :3]\n",
        "    # stft_colored_new_bgr = stft_colored_new[:, :, [2, 1, 0]]  # Reordering to BGR\n",
        "    # output_image_path=\"/content/1.png\"\n",
        "    # cv2.imwrite(output_image_path, stft_colored_new_bgr)\n",
        "    # Save the RGB image\n",
        "    image = Image.fromarray((rgb_image_no_alpha * 255).astype(np.uint8))\n",
        "    flipped_image = image.transpose(Image.FLIP_TOP_BOTTOM)\n",
        "    # flipped_image.save('/content/resized_rgb_image.png')\n",
        "    # Save the image\n",
        "    image_new =  flipped_image\n",
        "    filename = os.path.basename(file_path)\n",
        "    output_path = os.path.join(output_directory, f\"{os.path.splitext(filename)[0]}.png\")\n",
        "    image_new.save(output_path)\n",
        "    # print(f\"Saved {output_path}\")\n",
        "    # Parameters\n",
        "    frequency_resolution = 5  # Hz per bin\n",
        "    time_resolution = 0.008   # seconds per bin\n",
        "    # Generate axes for plotting\n",
        "    frequency_axis = np.arange(spectrogram.shape[0]) * frequency_resolution\n",
        "    time_axis = np.arange(spectrogram.shape[1]) * time_resolution\n",
        "\n",
        "    # Assuming 'spectrogram' and its related 'time_axis' and 'frequency_axis' are defined\n",
        "    fig, axs = plt.subplots(1, 2, figsize=(20, 6))  # 1 row, 2 columns\n",
        "    # Plot on the second axis\n",
        "    img = axs[0].imshow(spectrogram, aspect='auto', origin='lower', extent=[time_axis[0], time_axis[-1], frequency_axis[0], frequency_axis[-1]])\n",
        "    axs[0].set_title('Spectrogram with time and frequency')\n",
        "    axs[0].set_xlabel('Time (seconds)')\n",
        "    axs[0].set_ylabel('Frequency (Hz)')\n",
        "    fig.colorbar(img, ax=axs[0], label='Magnitude')\n",
        "    # Plot on the second axis\n",
        "    img = axs[1].imshow(image, aspect='auto', origin='lower')\n",
        "    axs[1].set_title('Spectrogram with time and frequency')\n",
        "    axs[1].set_xlabel('Time bins')\n",
        "    axs[1].set_ylabel('Frequency bins)')\n",
        "    fig.colorbar(img, ax=axs[1], label='Magnitude')\n"
      ]
    },
    {
      "cell_type": "code",
      "execution_count": 5,
      "metadata": {
        "id": "FLVE_5cQjXjr"
      },
      "outputs": [],
      "source": [
        "# Directory containing the CSV files\n",
        "directory = '/content/drive/MyDrive/New_MF_data/New_Class/BCO'\n",
        "output_directory = '/content/drive/MyDrive/New_MF_data/New_Class/1HZ_Resolution_1000Hz_resized_spectrogram/BCO'\n",
        "\n",
        "# Ensure output directory exists\n",
        "os.makedirs(output_directory, exist_ok=True)\n",
        "\n",
        "# Iterate over all CSV files in the directory\n",
        "for filename in os.listdir(directory):\n",
        "    if filename.endswith('.csv'):\n",
        "        file_path = os.path.join(directory, filename)\n",
        "        process_csv(file_path, output_directory)\n",
        "\n",
        "print(\"All files processed.\")"
      ]
    }
  ],
  "metadata": {
    "accelerator": "TPU",
    "colab": {
      "gpuType": "V28",
      "machine_shape": "hm",
      "provenance": []
    },
    "kernelspec": {
      "display_name": "Python 3",
      "name": "python3"
    },
    "language_info": {
      "name": "python"
    }
  },
  "nbformat": 4,
  "nbformat_minor": 0
}